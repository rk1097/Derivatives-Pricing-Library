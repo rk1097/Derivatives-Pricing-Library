{
 "cells": [
  {
   "cell_type": "code",
   "execution_count": 31,
   "id": "150f3d04",
   "metadata": {},
   "outputs": [],
   "source": [
    "import datetime as dt\n",
    "import numpy as np"
   ]
  },
  {
   "cell_type": "code",
   "execution_count": 32,
   "id": "d2c1f791",
   "metadata": {},
   "outputs": [
    {
     "name": "stdout",
     "output_type": "stream",
     "text": [
      "0.4958904109589041\n",
      "0.5041095890410959\n"
     ]
    }
   ],
   "source": [
    "dates = [dt.datetime(2015,1,1),dt.datetime(2015,7,1),dt.datetime(2016,1,1)]\n",
    "\n",
    "print((dates[1] - dates[0]).days/365)\n",
    "print((dates[2]-dates[1]).days/365)\n"
   ]
  },
  {
   "cell_type": "code",
   "execution_count": 33,
   "id": "a7d3ef12",
   "metadata": {},
   "outputs": [],
   "source": [
    "# Get year fractions out of a list of dates\n",
    "\n",
    "def get_year_deltas(date_list , day_count = 365):\n",
    "    \"\"\" Return array of floats with day deltas in years with initial value normalized to zero\n",
    "        Parameters:\n",
    "        date_list: list or array collection of datetime objects\n",
    "        day_count : number of days of a year (to account for different conventions)\n",
    "    \n",
    "    \"\"\"\n",
    "\n",
    "    return np.array([(date-date_list[0]).days/day_count for date in date_list])"
   ]
  },
  {
   "cell_type": "code",
   "execution_count": 35,
   "id": "4817837e",
   "metadata": {},
   "outputs": [
    {
     "name": "stdout",
     "output_type": "stream",
     "text": [
      "[1.         0.97551034 0.95122942]\n"
     ]
    }
   ],
   "source": [
    "def get_discount_factors(date_list , const_rate):\n",
    "    \"\"\"\n",
    "    get a list of discount factors when given a list of dates and a constant risk free rate\n",
    "    \"\"\"\n",
    "\n",
    "    return np.exp(-const_rate*get_year_deltas(date_list))\n",
    "\n",
    "print(get_discount_factors(dates,0.05))"
   ]
  },
  {
   "cell_type": "code",
   "execution_count": 53,
   "id": "1b71691e",
   "metadata": {},
   "outputs": [],
   "source": [
    "# Class for risk neutral discounting with constant short rate \n",
    "\n",
    "class constant_short_rate():\n",
    "\n",
    "    \"\"\"\n",
    "    Class for short rate discounting \n",
    "\n",
    "    Attributes---\n",
    "\n",
    "    name : string ---- name of the object\n",
    "    short_rate : float ----- const rate for discounting \n",
    "\n",
    "    Methods ------\n",
    "\n",
    "    get_discount_factors : get_discount_factors when given a list of datetime objects or year fractions\n",
    "    \"\"\"\n",
    "\n",
    "    def __init__(self,name,short_rate):\n",
    "        self.name = name \n",
    "        self.short_rate = short_rate\n",
    "        \n",
    "    def get_discount_factors(self,date_list):\n",
    "        discount_factors = np.exp(-self.short_rate*get_year_deltas(date_list))\n",
    "\n",
    "        return np.array((date_list,discount_factors)).T\n",
    "    \n",
    "\n",
    "\n"
   ]
  },
  {
   "cell_type": "code",
   "execution_count": 56,
   "id": "34ec9a75",
   "metadata": {},
   "outputs": [
    {
     "data": {
      "text/plain": [
       "<__main__.constant_short_rate at 0x25b2323b310>"
      ]
     },
     "execution_count": 56,
     "metadata": {},
     "output_type": "execute_result"
    }
   ],
   "source": [
    "csr = constant_short_rate(\"r\",0.05)\n",
    "csr"
   ]
  },
  {
   "cell_type": "code",
   "execution_count": 63,
   "id": "f1a4a934",
   "metadata": {},
   "outputs": [],
   "source": [
    "class market_environmnet():\n",
    "    \"\"\"\n",
    "    Class to model a market environment relevant for valuation\n",
    "\n",
    "    Attributes ------\n",
    "    name : name of market environment\n",
    "    pricing_date : date of market environment\n",
    "    \n",
    "    Methods:\n",
    "    add_constant: adds a model parameter\n",
    "    get_constant: gets a model parameter\n",
    "    add_list : adds a list\n",
    "    get_list : gets a lsit\n",
    "    add_curve : adds a curve\n",
    "    get_curve : gets a curve\n",
    "\n",
    "    \"\"\"\n",
    "\n",
    "    def __init__(self,name,pricing_date):\n",
    "        self.name = name\n",
    "        self.pricing_date = pricing_date\n",
    "        self.constants = {}\n",
    "        self.lists = {}\n",
    "        self.curves = {}\n",
    "\n",
    "    def add_constant(self,key,constant):\n",
    "        self.constants[key] = constant\n",
    "\n",
    "    def get_constant(self,key):\n",
    "        return self.constants[key]\n",
    "    \n",
    "    def add_list(self,key,list):\n",
    "        self.lists[key] = list\n",
    "\n",
    "    def get_list(self,key):\n",
    "        return self.lists[key]\n",
    "\n",
    "    def add_curve(self,key,curve):\n",
    "        self.curves[key] = curve\n",
    "\n",
    "    def get_curve(self,key):\n",
    "        return self.curves[key]\n",
    "    \n",
    "    def add_environment(self,env):\n",
    "        for key in env.constants:\n",
    "            self.constants[key] = env.constants[key]\n",
    "\n",
    "        for key in env.lists:\n",
    "            self.lists[key] = env.lists[key]\n",
    "\n",
    "        for key in env.curves:\n",
    "            self.curves[key] = env.curves[key]\n"
   ]
  },
  {
   "cell_type": "code",
   "execution_count": 64,
   "id": "bed5a725",
   "metadata": {},
   "outputs": [],
   "source": [
    "me_1 = market_environmnet(\"me_1\",dt.datetime(2015,1,1))"
   ]
  },
  {
   "cell_type": "code",
   "execution_count": 65,
   "id": "add25ee8",
   "metadata": {},
   "outputs": [
    {
     "data": {
      "text/plain": [
       "['AAPL', 'MSFT', 'TSLA']"
      ]
     },
     "execution_count": 65,
     "metadata": {},
     "output_type": "execute_result"
    }
   ],
   "source": [
    "me_1.add_list(\"stocks\",[\"AAPL\",\"MSFT\",\"TSLA\"])\n",
    "me_1.get_list(\"stocks\")"
   ]
  },
  {
   "cell_type": "code",
   "execution_count": 66,
   "id": "f20dfa58",
   "metadata": {},
   "outputs": [],
   "source": [
    "me_2 = market_environmnet(\"me_2\", dt.datetime(2015,1,1))\n",
    "me_2.add_constant(\"volatility\" , 0.2)\n",
    "me_2.add_curve(\"short_rate\" , csr )\n",
    "me_2.get_curve(\"short_rate\")\n",
    "me_1.add_environment(me_2)\n"
   ]
  },
  {
   "cell_type": "code",
   "execution_count": 69,
   "id": "b3866f87",
   "metadata": {},
   "outputs": [
    {
     "data": {
      "text/plain": [
       "{'short_rate': <__main__.constant_short_rate at 0x25b2323b310>}"
      ]
     },
     "execution_count": 69,
     "metadata": {},
     "output_type": "execute_result"
    }
   ],
   "source": [
    "me_1.curves"
   ]
  },
  {
   "cell_type": "code",
   "execution_count": null,
   "id": "bacbbb4e",
   "metadata": {},
   "outputs": [],
   "source": [
    "# Generic Financial Model simulation class\n",
    "\n",
    "class simulation_class():\n",
    "    \"\"\"\n",
    "    Providing base methods for simulation classes\n",
    "\n",
    "    Attributes -- \n",
    "\n",
    "    name : name of the object\n",
    "    mar_env : instance of market_environment data for simulation\n",
    "    corr : Boolean ,  True if correlated with other model object\n",
    "\n",
    "    Methods:\n",
    "    generate time_grid: returns time grid for simulation\n",
    "    get_instrument_values:returns current instrument values\n",
    "\n",
    "    \"\"\"\n",
    "\n",
    "    def __init__(self,name,mark_env,corr):\n",
    "        try:\n",
    "            self.name = name\n",
    "            self.pricing_date = mark_env.pricing_date\n",
    "            self.initial_value = mark_env.get_constant(\"initial_value\")\n",
    "            self.volatility = mark_env.get_constant(\"volatility\")\n",
    "            self.finaldate = mark_env.get_constant(\"final_date\")\n",
    "            self.currency = mark_env.get_constant(\"currency\")\n",
    "            self.frequency = mark_env.get_constant(\"frequency\")\n",
    "            self.paths = mark_env.get_constant(\"paths\")\n",
    "            self.discount_curve = mark_env.get_curve(\"discount_curve\")\n",
    "\n",
    "\n",
    "        except:\n",
    "            print( \"Error parsing market environmnet\" )"
   ]
  },
  {
   "cell_type": "code",
   "execution_count": null,
   "id": "7d71b2ac",
   "metadata": {},
   "outputs": [],
   "source": []
  }
 ],
 "metadata": {
  "kernelspec": {
   "display_name": "Python 3",
   "language": "python",
   "name": "python3"
  },
  "language_info": {
   "codemirror_mode": {
    "name": "ipython",
    "version": 3
   },
   "file_extension": ".py",
   "mimetype": "text/x-python",
   "name": "python",
   "nbconvert_exporter": "python",
   "pygments_lexer": "ipython3",
   "version": "3.10.11"
  }
 },
 "nbformat": 4,
 "nbformat_minor": 5
}
